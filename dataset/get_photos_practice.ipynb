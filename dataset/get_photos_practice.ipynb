{
 "cells": [
  {
   "cell_type": "code",
   "execution_count": 8,
   "id": "d2622d4f",
   "metadata": {},
   "outputs": [],
   "source": [
    "from flickrapi import FlickrAPI\n",
    "import urllib\n",
    "import os\n",
    "import config\n",
    "import random\n",
    "import time"
   ]
  },
  {
   "cell_type": "code",
   "execution_count": 16,
   "id": "2a5b0c71",
   "metadata": {},
   "outputs": [],
   "source": [
    "def download(keywords,size, max_nb_img=-1):\n",
    "    if not (isinstance(keywords, str) or isinstance(keywords, list)):\n",
    "        raise AttributeError('keywords must be a string or a list of strings')\n",
    "    if not (size in ['thumbnail', 'square', 'medium', 'original']):\n",
    "        raise AttributeError('size must be \"thumbnail\", \"square\", \"medium\" or \"original\"')\n",
    "    if not (max_nb_img == -1 or (max_nb_img > 0 and isinstance(max_nb_img, int))):\n",
    "        raise AttributeError('max_nb_img must be an integer greater than zero or equal to -1')\n",
    "    flickr = FlickrAPI(config.API_KEY, config.API_SECRET)\n",
    "    if isinstance(keywords, str):\n",
    "        keywords_list = []\n",
    "        keywords_list.append(keywords)\n",
    "    else:\n",
    "        keywords_list = keywords\n",
    "    if size == 'thumbnail':\n",
    "        size_url = 'url_t'\n",
    "    elif size == 'square':\n",
    "        size_url = 'url_q'\n",
    "    elif size == 'medium':\n",
    "        size_url = 'url_c'\n",
    "    elif size == 'original':\n",
    "        size_url = 'url_o'\n",
    "    for keyword in keywords_list:\n",
    "        count = 0\n",
    "        #print('Downloading images for', keyword)\n",
    "        results_folder = config.IMG_FOLDER + \"/\" + keyword.replace(\" \", \"_\") + \"/\"\n",
    "        if not os.path.exists(results_folder):\n",
    "            os.makedirs(results_folder)\n",
    "        photos = flickr.walk(\n",
    "                     text=keyword,\n",
    "                     extras=size_url,\n",
    "                     license='1,2,4,5',\n",
    "                     per_page=50)\n",
    "        urls = []\n",
    "        for photo in photos:\n",
    "            t = random.randint(1, 3)\n",
    "            time.sleep(t)\n",
    "            count += 1\n",
    "            if max_nb_img != -1:\n",
    "                if count > max_nb_img:\n",
    "                    print('Reached maximum number of images to download')\n",
    "                    break\n",
    "            try:\n",
    "                url=photo.get(size_url)\n",
    "                urls.append(url)\n",
    "                urllib.request.urlretrieve(url,  results_folder + str(count) +\".jpg\")\n",
    "                print('Downloading image #' + str(count) + ' from url ' + url)\n",
    "            except Exception as e:\n",
    "                print(e, 'Download failure')\n",
    "        print(\"Total images downloaded:\", str(count - 1))"
   ]
  },
  {
   "cell_type": "code",
   "execution_count": 17,
   "id": "73a1dcef",
   "metadata": {},
   "outputs": [
    {
     "name": "stdout",
     "output_type": "stream",
     "text": [
      "Downloading image #1 from url https://live.staticflickr.com/65535/52626157556_1a9c46752f_o.jpg\n",
      "Downloading image #2 from url https://live.staticflickr.com/65535/52597760044_357ac91b19_o.jpg\n",
      "Downloading image #3 from url https://live.staticflickr.com/65535/52479590603_9c716c2bd6_o.jpg\n",
      "Downloading image #4 from url https://live.staticflickr.com/65535/52429431482_0d4785214b_o.jpg\n",
      "Downloading image #5 from url https://live.staticflickr.com/65535/52426167895_6c7b94b93f_o.jpg\n",
      "Reached maximum number of images to download\n",
      "Total images downloaded: 5\n",
      "Downloading image #1 from url https://live.staticflickr.com/65535/52425247020_7e259d265c_o.jpg\n",
      "Downloading image #2 from url https://live.staticflickr.com/65535/52388220894_41666f1715_o.jpg\n",
      "Downloading image #3 from url https://live.staticflickr.com/65535/52386985007_bfaa1af8b9_o.jpg\n",
      "Downloading image #4 from url https://live.staticflickr.com/65535/52366339947_c558ec4639_o.jpg\n",
      "Downloading image #5 from url https://live.staticflickr.com/65535/52364982208_acc54d332a_o.jpg\n",
      "Reached maximum number of images to download\n",
      "Total images downloaded: 5\n"
     ]
    }
   ],
   "source": [
    "butterflies = ['meadow brown butterfly', 'gatekeeper butterfly']\n",
    "for butterfly in butterflies:\n",
    "    download(butterfly, size = 'original', max_nb_img= 5)"
   ]
  },
  {
   "cell_type": "code",
   "execution_count": 18,
   "id": "b06b6e2f",
   "metadata": {},
   "outputs": [
    {
     "name": "stdout",
     "output_type": "stream",
     "text": [
      "Downloading image #1 from url https://live.staticflickr.com/65535/52669035743_ce38fb8bf7_o.jpg\n",
      "Downloading image #2 from url https://live.staticflickr.com/65535/52668067584_8efc899a7e_o.jpg\n",
      "Downloading image #3 from url https://live.staticflickr.com/65535/52666950822_73dd18552f_o.jpg\n",
      "Downloading image #4 from url https://live.staticflickr.com/65535/52666883172_4dcf8191db_o.jpg\n",
      "Downloading image #5 from url https://live.staticflickr.com/65535/52666179033_fd059ded86_o.jpg\n",
      "Reached maximum number of images to download\n",
      "Total images downloaded: 5\n",
      "Downloading image #1 from url https://live.staticflickr.com/65535/52667890000_20c46bb60a_o.jpg\n",
      "Downloading image #2 from url https://live.staticflickr.com/65535/52667452721_a8aee09d5d_o.jpg\n",
      "Downloading image #3 from url https://live.staticflickr.com/65535/52665210391_375458f14f_o.jpg\n",
      "Downloading image #4 from url https://live.staticflickr.com/65535/52663462947_987f87ff89_o.jpg\n",
      "Downloading image #5 from url https://live.staticflickr.com/65535/52664462188_10c43e7a9e_o.jpg\n",
      "Reached maximum number of images to download\n",
      "Total images downloaded: 5\n",
      "Downloading image #1 from url https://live.staticflickr.com/65535/52666191697_bfe3f3aaf5_o.jpg\n",
      "Downloading image #2 from url https://live.staticflickr.com/65535/52667188238_09905c319f_o.jpg\n",
      "Downloading image #3 from url https://live.staticflickr.com/65535/52666685726_a8f2f077e8_o.jpg\n",
      "Downloading image #4 from url https://live.staticflickr.com/65535/52666684666_1745096519_o.jpg\n",
      "Downloading image #5 from url https://live.staticflickr.com/65535/52667118645_fcfd04cea5_o.jpg\n",
      "Reached maximum number of images to download\n",
      "Total images downloaded: 5\n"
     ]
    }
   ],
   "source": [
    "birds = ['great blue heron', 'blue jay', 'american crow']\n",
    "for bird in birds:\n",
    "    download(bird, size = 'original', max_nb_img= 5)"
   ]
  }
 ],
 "metadata": {
  "kernelspec": {
   "display_name": "Python 3 (ipykernel)",
   "language": "python",
   "name": "python3"
  },
  "language_info": {
   "codemirror_mode": {
    "name": "ipython",
    "version": 3
   },
   "file_extension": ".py",
   "mimetype": "text/x-python",
   "name": "python",
   "nbconvert_exporter": "python",
   "pygments_lexer": "ipython3",
   "version": "3.7.13"
  }
 },
 "nbformat": 4,
 "nbformat_minor": 5
}
